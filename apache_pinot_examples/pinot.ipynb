{
 "cells": [
  {
   "cell_type": "code",
   "execution_count": 3,
   "id": "f630eeb3-17b7-46d4-b356-2fcd6f444ea4",
   "metadata": {},
   "outputs": [],
   "source": [
    "from pinotdb import connect"
   ]
  },
  {
   "cell_type": "code",
   "execution_count": 4,
   "id": "fa46ab79-b466-473e-879a-d60321b47cc2",
   "metadata": {},
   "outputs": [
    {
     "name": "stdout",
     "output_type": "stream",
     "text": [
      "['SF07', 123.0, 830, 23.94]\n",
      "['CS08', 155.0, 800, 14.97]\n",
      "['SF05', 95.0, 655, 23.94]\n",
      "['SC04', 98.0, 655, 23.94]\n",
      "['IS02', 113.0, 637, 16.47]\n",
      "['SF06', 79.0, 536, 23.94]\n",
      "['SC01', 77.0, 535, 15.96]\n",
      "['IS03', 89.0, 495, 16.47]\n",
      "['CS07', 94.0, 487, 20.94]\n",
      "['SC05', 70.0, 487, 23.94]\n",
      "['CS09', 85.0, 430, 14.97]\n",
      "['IS01', 64.0, 365, 22.44]\n",
      "['CS05', 67.0, 350, 13.96]\n",
      "['SF03', 52.0, 347, 23.94]\n",
      "['SC03', 51.0, 346, 23.94]\n",
      "['SF04', 50.0, 341, 23.94]\n",
      "['CS03', 61.0, 332, 20.94]\n",
      "['CS06', 61.0, 313, 13.96]\n",
      "['CS02', 48.0, 265, 13.96]\n",
      "['CS04', 50.0, 261, 14.97]\n",
      "['SF02', 39.0, 261, 15.96]\n",
      "['SC02', 39.0, 260, 17.97]\n",
      "['IS04', 43.0, 247, 20.2]\n",
      "['CS10', 44.0, 224, 13.96]\n",
      "['CS11', 42.0, 223, 14.97]\n",
      "['SF01', 25.0, 179, 23.94]\n",
      "['CS01', 23.0, 124, 14.97]\n"
     ]
    }
   ],
   "source": [
    "conn = connect(host='pinot-broker', port=8099, path='/query/sql', scheme='http')\n",
    "curs = conn.cursor()\n",
    "curs.execute(\"\"\"\n",
    "SELECT\n",
    "  product_id,\n",
    "  SUM(quantity) AS quantity,\n",
    "  ROUND(SUM(total_purchase), 1) AS sales,\n",
    "  MAX(total_purchase) AS max_sale\n",
    "FROM\n",
    "  purchases\n",
    "GROUP BY\n",
    "  product_id\n",
    "ORDER BY\n",
    "  sales DESC\n",
    "LIMIT 100;\"\"\")\n",
    "for row in curs:\n",
    "    print(row)"
   ]
  }
 ],
 "metadata": {
  "kernelspec": {
   "display_name": "Python 3.8.9 64-bit",
   "language": "python",
   "name": "python3"
  },
  "language_info": {
   "codemirror_mode": {
    "name": "ipython",
    "version": 3
   },
   "file_extension": ".py",
   "mimetype": "text/x-python",
   "name": "python",
   "nbconvert_exporter": "python",
   "pygments_lexer": "ipython3",
   "version": "3.8.9"
  },
  "vscode": {
   "interpreter": {
    "hash": "31f2aee4e71d21fbe5cf8b01ff0e069b9275f58929596ceb00d14d90e3e16cd6"
   }
  }
 },
 "nbformat": 4,
 "nbformat_minor": 5
}
