{
 "cells": [
  {
   "cell_type": "code",
   "execution_count": 2,
   "id": "e23c98aa-86cc-4638-b82e-7a1650113bc0",
   "metadata": {},
   "outputs": [],
   "source": [
    "# pip3 install pinotdb"
   ]
  },
  {
   "cell_type": "code",
   "execution_count": 3,
   "id": "f630eeb3-17b7-46d4-b356-2fcd6f444ea4",
   "metadata": {},
   "outputs": [],
   "source": [
    "from pinotdb import connect"
   ]
  },
  {
   "cell_type": "code",
   "execution_count": 4,
   "id": "fa46ab79-b466-473e-879a-d60321b47cc2",
   "metadata": {},
   "outputs": [
    {
     "name": "stdout",
     "output_type": "stream",
     "text": [
      "['SF07', 'Detox Island Green', 'Superfoods Smoothies', '242.00', '1630.78']\n",
      "['CS08', 'Rockin’ Raspberry', 'Classic Smoothies', '282.00', '1506.04']\n",
      "['IS02', 'Peanut Butter Cup', 'Indulgent Smoothies', '226.00', '1333.14']\n",
      "['SF06', 'Get Up and Goji', 'Superfoods Smoothies', '182.00', '1293.00']\n",
      "['SC04', 'Lean Machine', 'Supercharged Smoothies', '188.00', '1280.74']\n",
      "['SF05', 'Caribbean C-Burst', 'Superfoods Smoothies', '174.00', '1198.94']\n",
      "['CS09', 'Strawberry Limeade', 'Classic Smoothies', '214.00', '1117.10']\n",
      "['IS03', 'Beach Bum', 'Indulgent Smoothies', '170.00', '995.22']\n",
      "['IS01', 'Bahama Mama', 'Indulgent Smoothies', '158.00', '929.58']\n",
      "['SC05', 'Muscle Blaster', 'Supercharged Smoothies', '138.00', '881.38']\n"
     ]
    }
   ],
   "source": [
    "conn = connect(host='pinot-broker', port=8099, path='/query/sql', scheme='http')\n",
    "curs = conn.cursor()\n",
    "curs.execute(\"\"\"\n",
    "SELECT\n",
    "  product_id,\n",
    "  product_name,\n",
    "  product_category,\n",
    "  SUMPRECISION(purchase_quantity, 10, 2) AS quantity,\n",
    "  SUMPRECISION(total_purchase, 10, 2) AS sales\n",
    "FROM\n",
    "  purchasesEnriched\n",
    "GROUP BY\n",
    "  product_id,\n",
    "  product_name,\n",
    "  product_category\n",
    "ORDER BY\n",
    "  sales DESC;\"\"\")\n",
    "for row in curs:\n",
    "    print(row)"
   ]
  },
  {
   "cell_type": "code",
   "execution_count": null,
   "id": "d4adef4c-dd6b-4edf-8c76-eef4bcc3bb0b",
   "metadata": {},
   "outputs": [],
   "source": []
  }
 ],
 "metadata": {
  "kernelspec": {
   "display_name": "Python 3 (ipykernel)",
   "language": "python",
   "name": "python3"
  },
  "language_info": {
   "codemirror_mode": {
    "name": "ipython",
    "version": 3
   },
   "file_extension": ".py",
   "mimetype": "text/x-python",
   "name": "python",
   "nbconvert_exporter": "python",
   "pygments_lexer": "ipython3",
   "version": "3.8.9"
  },
  "vscode": {
   "interpreter": {
    "hash": "31f2aee4e71d21fbe5cf8b01ff0e069b9275f58929596ceb00d14d90e3e16cd6"
   }
  }
 },
 "nbformat": 4,
 "nbformat_minor": 5
}
