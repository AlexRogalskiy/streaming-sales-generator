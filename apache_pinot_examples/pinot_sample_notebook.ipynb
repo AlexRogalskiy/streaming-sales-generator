{
 "cells": [
  {
   "cell_type": "markdown",
   "id": "7bbb2f13-854d-4988-9011-d2183c2e7f0d",
   "metadata": {},
   "source": [
    "# Apache Pinot Example\n",
    "\n",
    "Purpose: Reads the contents of a realtime table from Apache Pinot containing streaming data\n",
    "\n",
    "Author:  Gary A. Stafford\n",
    "\n",
    "Date: 2022-12-27"
   ]
  },
  {
   "cell_type": "code",
   "execution_count": 1,
   "id": "e23c98aa-86cc-4638-b82e-7a1650113bc0",
   "metadata": {},
   "outputs": [],
   "source": [
    "# prerequisites:\n",
    "\n",
    "# python3 -m pip install pinotdb"
   ]
  },
  {
   "cell_type": "code",
   "execution_count": 2,
   "id": "f630eeb3-17b7-46d4-b356-2fcd6f444ea4",
   "metadata": {},
   "outputs": [],
   "source": [
    "from pinotdb import connect"
   ]
  },
  {
   "cell_type": "code",
   "execution_count": 3,
   "id": "fa46ab79-b466-473e-879a-d60321b47cc2",
   "metadata": {},
   "outputs": [
    {
     "data": {
      "text/plain": [
       "<pinotdb.db.Cursor at 0x7fd380918be0>"
      ]
     },
     "execution_count": 3,
     "metadata": {},
     "output_type": "execute_result"
    }
   ],
   "source": [
    "conn = connect(host=\"pinot-broker\", port=8099, path=\"/query/sql\", scheme=\"http\")\n",
    "\n",
    "sql = \"\"\"\n",
    "    SELECT\n",
    "      product_id,\n",
    "      product_name,\n",
    "      product_category,\n",
    "      SUMPRECISION(purchase_quantity, 10, 0) AS quantity,\n",
    "      SUMPRECISION(total_purchase, 10, 2) AS sales\n",
    "    FROM\n",
    "      purchasesEnriched\n",
    "    GROUP BY\n",
    "      product_id,\n",
    "      product_name,\n",
    "      product_category\n",
    "    ORDER BY\n",
    "      sales DESC;\"\"\"\n",
    "\n",
    "curs = conn.cursor()\n",
    "\n",
    "curs.execute(sql)"
   ]
  },
  {
   "cell_type": "code",
   "execution_count": 4,
   "id": "2515dc0a-35e7-430b-b312-27790b07b10c",
   "metadata": {},
   "outputs": [
    {
     "name": "stdout",
     "output_type": "stream",
     "text": [
      "['SF07', 'Detox Island Green', 'Superfoods Smoothies', '2494', '16763.30']\n",
      "['SC04', 'Lean Machine', 'Supercharged Smoothies', '2206', '15100.50']\n",
      "['CS08', 'Rockin’ Raspberry', 'Classic Smoothies', '2868', '14909.80']\n",
      "['IS02', 'Peanut Butter Cup', 'Indulgent Smoothies', '2232', '12722.98']\n",
      "['SF05', 'Caribbean C-Burst', 'Superfoods Smoothies', '1840', '12513.14']\n",
      "['SF06', 'Get Up and Goji', 'Superfoods Smoothies', '1768', '11900.72']\n",
      "['SC01', 'Triple Berry Oat', 'Supercharged Smoothies', '1750', '11823.12']\n",
      "['IS03', 'Beach Bum', 'Indulgent Smoothies', '2000', '11466.14']\n",
      "['SC05', 'Muscle Blaster', 'Supercharged Smoothies', '1528', '10465.10']\n",
      "['CS09', 'Strawberry Limeade', 'Classic Smoothies', '1794', '9376.22']\n"
     ]
    }
   ],
   "source": [
    "for row in curs:\n",
    "    print(row)"
   ]
  }
 ],
 "metadata": {
  "kernelspec": {
   "display_name": "Python 3 (ipykernel)",
   "language": "python",
   "name": "python3"
  },
  "language_info": {
   "codemirror_mode": {
    "name": "ipython",
    "version": 3
   },
   "file_extension": ".py",
   "mimetype": "text/x-python",
   "name": "python",
   "nbconvert_exporter": "python",
   "pygments_lexer": "ipython3",
   "version": "3.10.8"
  },
  "vscode": {
   "interpreter": {
    "hash": "31f2aee4e71d21fbe5cf8b01ff0e069b9275f58929596ceb00d14d90e3e16cd6"
   }
  }
 },
 "nbformat": 4,
 "nbformat_minor": 5
}
